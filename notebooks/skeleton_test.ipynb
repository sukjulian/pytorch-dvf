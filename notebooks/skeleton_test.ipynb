{
 "cells": [
  {
   "cell_type": "code",
   "execution_count": 1,
   "metadata": {},
   "outputs": [
    {
     "data": {
      "text/plain": [
       "<torch._C.Generator at 0x2a8f473b0>"
      ]
     },
     "execution_count": 1,
     "metadata": {},
     "output_type": "execute_result"
    }
   ],
   "source": [
    "import pyvista as pv\n",
    "import numpy as np\n",
    "\n",
    "import torch\n",
    "from torch_dvf.data import Data\n",
    "from torch_dvf.transforms import SkeletonPointCloudHierarchy, RadiusPointCloudHierarchy, GeodesicPointCloudHierarchy\n",
    "\n",
    "torch.manual_seed(0)"
   ]
  },
  {
   "cell_type": "code",
   "execution_count": 2,
   "metadata": {},
   "outputs": [
    {
     "data": {
      "application/vnd.jupyter.widget-view+json": {
       "model_id": "0308f7b17f504a2db8fad23ae6f84dd5",
       "version_major": 2,
       "version_minor": 0
      },
      "text/plain": [
       "Widget(value='<iframe src=\"http://localhost:63864/index.html?ui=P_0x2f37b72d0_0&reconnect=auto\" class=\"pyvista…"
      ]
     },
     "metadata": {},
     "output_type": "display_data"
    },
    {
     "name": "stdout",
     "output_type": "stream",
     "text": [
      " JS Error => error: Uncaught TypeError: Cannot mix BigInt and other types, use explicit conversions\n"
     ]
    }
   ],
   "source": [
    "def make_points():\n",
    "    \"\"\"Helper to make XYZ points\"\"\"\n",
    "    theta = np.linspace(-2 * np.pi, 2 * np.pi, 1000)\n",
    "    z = np.linspace(-2, 2, 1000)\n",
    "    r = z**2 + 1\n",
    "    x = r * np.sin(theta)\n",
    "    y = r * np.cos(theta)\n",
    "    return np.column_stack((x, y, z))\n",
    "\n",
    "points = make_points()\n",
    "\n",
    "def polyline_from_points(points):\n",
    "    poly = pv.PolyData()\n",
    "    poly.points = points\n",
    "    the_cell = np.arange(0, len(points), dtype=np.int_)\n",
    "    the_cell = np.insert(the_cell, 0, len(points))\n",
    "    poly.lines = the_cell\n",
    "    return poly\n",
    "\n",
    "polyline = polyline_from_points(points)\n",
    "polyline['stuff'] = np.arange(polyline.n_points)\n",
    "tube = polyline.tube(scalars='stuff', radius_factor=2)\n",
    "\n",
    "pl = pv.Plotter()\n",
    "pl.add_mesh(tube, opacity=0.5)\n",
    "pl.add_mesh(polyline, color=\"red\")\n",
    "pl.show()"
   ]
  },
  {
   "cell_type": "code",
   "execution_count": 6,
   "metadata": {},
   "outputs": [],
   "source": [
    "data = Data(pos=torch.tensor(tube.points).float())\n",
    "data_radius = RadiusPointCloudHierarchy((0.5, 0.5, 0.5), (3.0, 4.0, 5.0), interp_simplex=\"triangle\", max_num_neighbors=1024)(data)"
   ]
  },
  {
   "cell_type": "code",
   "execution_count": 4,
   "metadata": {},
   "outputs": [],
   "source": [
    "data = Data(pos=torch.tensor(tube.points).float())\n",
    "data_geodesic = GeodesicPointCloudHierarchy((0.5, 0.5, 0.5), (2.0, 3.0, 5.0), interp_simplex=\"triangle\")(data)"
   ]
  },
  {
   "cell_type": "code",
   "execution_count": 7,
   "metadata": {},
   "outputs": [],
   "source": [
    "data = Data(\n",
    "    pos=torch.tensor(tube.points).float(),\n",
    "    skeleton_pos=torch.tensor(polyline.points).float(),\n",
    "    skeleton_edge_index=torch.tensor([(i, i+1) for i in range(len(polyline.points) - 1)]).T.long()\n",
    ")\n",
    "data_skeleton = SkeletonPointCloudHierarchy((0.5, 0.5, 0.5), (3.0, 4.0, 5.0), interp_simplex=\"triangle\", max_num_neighbors=1024)(data)"
   ]
  },
  {
   "cell_type": "code",
   "execution_count": 8,
   "metadata": {},
   "outputs": [
    {
     "name": "stdout",
     "output_type": "stream",
     "text": [
      "pool_skeleton pooling edges: torch.Size([10260320])\n",
      "pool_radius pooling edges: torch.Size([10253931])\n"
     ]
    },
    {
     "data": {
      "application/vnd.jupyter.widget-view+json": {
       "model_id": "b38254556d45438a926581ab8ba63461",
       "version_major": 2,
       "version_minor": 0
      },
      "text/plain": [
       "Widget(value='<iframe src=\"http://localhost:63864/index.html?ui=P_0x2f1d36650_2&reconnect=auto\" class=\"pyvista…"
      ]
     },
     "metadata": {},
     "output_type": "display_data"
    }
   ],
   "source": [
    "datas = {\n",
    "    \"pool_skeleton\": data_skeleton,\n",
    "    #\"pool_geodesic\": data_geodesic,\n",
    "    \"pool_radius\": data_radius\n",
    "}\n",
    "\n",
    "sampling_index = 0\n",
    "pl = pv.Plotter(shape=(1, 3))\n",
    "\n",
    "for i, (name, data) in enumerate(datas.items()):\n",
    "    print(f\"{name} pooling edges: {data['scale0_pool_target'].shape}\")\n",
    "    index = data[\"scale0_pool_target\"][sampling_index]\n",
    "    pooling_point = data.pos[data[\"scale0_sampling_index\"][index]]\n",
    "    pool = data[\"scale0_pool_source\"][data[\"scale0_pool_target\"] == index]\n",
    "    tube[name] = np.zeros(len(tube.points))\n",
    "    tube[name][pool.numpy()] = 1\n",
    "\n",
    "    pl.subplot(0, i)\n",
    "    pl.add_mesh(tube.copy(), opacity=0.5, scalars=name)\n",
    "    pl.add_mesh(polyline.copy(), color=\"red\")\n",
    "    pl.add_mesh(pv.PolyData(pooling_point.numpy()), render_points_as_spheres=True, point_size=10)\n",
    "    pl.add_mesh(pv.Sphere(3.0, pooling_point.numpy()), opacity=0.1)\n",
    "\n",
    "pl.link_views()\n",
    "pl.show()"
   ]
  }
 ],
 "metadata": {
  "kernelspec": {
   "display_name": "sire",
   "language": "python",
   "name": "python3"
  },
  "language_info": {
   "codemirror_mode": {
    "name": "ipython",
    "version": 3
   },
   "file_extension": ".py",
   "mimetype": "text/x-python",
   "name": "python",
   "nbconvert_exporter": "python",
   "pygments_lexer": "ipython3",
   "version": "3.11.7"
  }
 },
 "nbformat": 4,
 "nbformat_minor": 2
}
