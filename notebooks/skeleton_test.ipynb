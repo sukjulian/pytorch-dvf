{
 "cells": [
  {
   "cell_type": "code",
   "execution_count": 1,
   "metadata": {},
   "outputs": [
    {
     "data": {
      "text/plain": [
       "<torch._C.Generator at 0x28e6473b0>"
      ]
     },
     "execution_count": 1,
     "metadata": {},
     "output_type": "execute_result"
    }
   ],
   "source": [
    "import pyvista as pv\n",
    "import numpy as np\n",
    "\n",
    "import torch\n",
    "from torch_dvf.data import Data\n",
    "from torch_dvf.transforms import SkeletonPointCloudHierarchy, RadiusPointCloudHierarchy, GeodesicPointCloudHierarchy\n",
    "\n",
    "torch.manual_seed(0)"
   ]
  },
  {
   "cell_type": "code",
   "execution_count": 6,
   "metadata": {},
   "outputs": [],
   "source": [
    "def make_points():\n",
    "    \"\"\"Helper to make XYZ points\"\"\"\n",
    "    theta = np.linspace(-2 * np.pi, 2 * np.pi, 1000)\n",
    "    z = np.linspace(-2, 2, 1000)\n",
    "    r = z**2 + 1\n",
    "    x = r * np.sin(theta)\n",
    "    y = r * np.cos(theta)\n",
    "    return np.column_stack((x, y, z))\n",
    "\n",
    "points = make_points()\n",
    "\n",
    "def polyline_from_points(points):\n",
    "    poly = pv.PolyData()\n",
    "    poly.points = points\n",
    "    the_cell = np.arange(0, len(points), dtype=np.int_)\n",
    "    the_cell = np.insert(the_cell, 0, len(points))\n",
    "    poly.lines = the_cell\n",
    "    return poly\n",
    "\n",
    "polyline = polyline_from_points(points)\n",
    "polyline['stuff'] = np.arange(polyline.n_points)\n",
    "tube = polyline.tube(scalars='stuff', radius_factor=2)"
   ]
  },
  {
   "cell_type": "code",
   "execution_count": 3,
   "metadata": {},
   "outputs": [],
   "source": [
    "data = Data(pos=torch.tensor(tube.points).float())\n",
    "data_radius = RadiusPointCloudHierarchy((0.2, 0.5, 0.5, 0.5, 0.5), (3.0, 4.0, 5.0, 6.0, 7.0), interp_simplex=\"triangle\", max_num_neighbors=1024)(data)"
   ]
  },
  {
   "cell_type": "code",
   "execution_count": 4,
   "metadata": {},
   "outputs": [],
   "source": [
    "data = Data(\n",
    "    pos=torch.tensor(tube.points).float(),\n",
    "    skeleton_pos=torch.tensor(polyline.points).float(),\n",
    "    skeleton_edge_index=torch.tensor([(i, i+1) for i in range(len(polyline.points) - 1)]).T.long()\n",
    ")\n",
    "data_skeleton = SkeletonPointCloudHierarchy((0.2, 0.5, 0.5, 0.5, 0.5), (2.0, 5.0, 10.0, 15.0, 20.0), interp_simplex=\"triangle\")(data)"
   ]
  },
  {
   "cell_type": "code",
   "execution_count": 5,
   "metadata": {},
   "outputs": [
    {
     "data": {
      "application/vnd.jupyter.widget-view+json": {
       "model_id": "c539d3e7e4d044339a930b71fdd18e9f",
       "version_major": 2,
       "version_minor": 0
      },
      "text/plain": [
       "Widget(value='<iframe src=\"http://localhost:55104/index.html?ui=P_0x2fbc0cf90_1&reconnect=auto\" class=\"pyvista…"
      ]
     },
     "metadata": {},
     "output_type": "display_data"
    },
    {
     "name": "stdout",
     "output_type": "stream",
     "text": [
      " JS Error => error: Uncaught TypeError: Cannot mix BigInt and other types, use explicit conversions\n"
     ]
    }
   ],
   "source": [
    "num_scales = 5\n",
    "sampling_index = 0\n",
    "pl = pv.Plotter(shape=(2, num_scales))\n",
    "\n",
    "for j, data in enumerate([data_radius, data_skeleton]):\n",
    "    points = data.pos\n",
    "\n",
    "    for i in range(num_scales):\n",
    "        index = data[f\"scale{i}_pool_target\"][sampling_index]\n",
    "        pooling_point = points[data[f\"scale{i}_sampling_index\"][index]]\n",
    "        pool = data[f\"scale{i}_pool_source\"][data[f\"scale{i}_pool_target\"] == index]\n",
    "        \n",
    "        poly = pv.PolyData(points.numpy())\n",
    "        poly[f\"scale{i}\"] = np.zeros(poly.n_points)\n",
    "        poly[f\"scale{i}\"][pool.numpy()] = 1\n",
    "\n",
    "        points = points[data[f\"scale{i}_sampling_index\"]]\n",
    "\n",
    "        pl.subplot(j, i)\n",
    "        pl.add_mesh(poly.copy(), opacity=0.5, scalars=f\"scale{i}\")\n",
    "        pl.add_mesh(polyline.copy(), color=\"red\")\n",
    "        pl.add_mesh(pv.PolyData(pooling_point.numpy()), render_points_as_spheres=True, point_size=10)\n",
    "\n",
    "pl.link_views()\n",
    "pl.show()"
   ]
  }
 ],
 "metadata": {
  "kernelspec": {
   "display_name": "sire",
   "language": "python",
   "name": "python3"
  },
  "language_info": {
   "codemirror_mode": {
    "name": "ipython",
    "version": 3
   },
   "file_extension": ".py",
   "mimetype": "text/x-python",
   "name": "python",
   "nbconvert_exporter": "python",
   "pygments_lexer": "ipython3",
   "version": "3.11.7"
  }
 },
 "nbformat": 4,
 "nbformat_minor": 2
}
